{
 "cells": [
  {
   "cell_type": "code",
   "execution_count": 50,
   "metadata": {},
   "outputs": [],
   "source": [
    "def my_first_func(arg_1, arg_2):\n",
    "    print(arg_1, arg_2)\n",
    "    arg_1.append(42)"
   ]
  },
  {
   "cell_type": "code",
   "execution_count": 51,
   "metadata": {},
   "outputs": [
    {
     "name": "stdout",
     "output_type": "stream",
     "text": [
      "[] 42\n",
      "[42] 42\n"
     ]
    }
   ],
   "source": [
    "foo = list()\n",
    "bar = 42\n",
    "my_first_func(foo, bar)\n",
    "print(foo, bar)"
   ]
  },
  {
   "cell_type": "code",
   "execution_count": 52,
   "metadata": {},
   "outputs": [],
   "source": [
    "def function (foo, bar, baz = 42):\n",
    "    print(foo, bar, baz)"
   ]
  },
  {
   "cell_type": "code",
   "execution_count": 53,
   "metadata": {},
   "outputs": [
    {
     "name": "stdout",
     "output_type": "stream",
     "text": [
      "21 13 42\n"
     ]
    }
   ],
   "source": [
    "function(bar=13, foo=21)"
   ]
  },
  {
   "cell_type": "code",
   "execution_count": 54,
   "metadata": {},
   "outputs": [],
   "source": [
    "def array(*blue, **green):\n",
    "    print(type(blue))\n",
    "    print(blue)\n",
    "    print(type(green))\n",
    "    print(green)"
   ]
  },
  {
   "cell_type": "code",
   "execution_count": 55,
   "metadata": {},
   "outputs": [
    {
     "name": "stdout",
     "output_type": "stream",
     "text": [
      "<class 'tuple'>\n",
      "(1, 2, 3, 4)\n",
      "<class 'dict'>\n",
      "{'foo': 23, 'bar': 45, 'baz': -1}\n"
     ]
    }
   ],
   "source": [
    "array(1,2,3,4, foo = 23, bar = 45, baz = -1)"
   ]
  },
  {
   "cell_type": "code",
   "execution_count": 56,
   "metadata": {},
   "outputs": [],
   "source": [
    "def base(zap, zop, zip):\n",
    "    print('zap is', zap)"
   ]
  },
  {
   "cell_type": "code",
   "execution_count": 57,
   "metadata": {},
   "outputs": [],
   "source": [
    "def wrapper(*args, red):\n",
    "    if red == 0:\n",
    "        print('!')\n",
    "    base(*args)"
   ]
  },
  {
   "cell_type": "code",
   "execution_count": 58,
   "metadata": {},
   "outputs": [
    {
     "name": "stdout",
     "output_type": "stream",
     "text": [
      "zap is 23\n"
     ]
    }
   ],
   "source": [
    "wrapper(23, 1, 2, red=1)"
   ]
  }
 ],
 "metadata": {
  "kernelspec": {
   "display_name": ".venv",
   "language": "python",
   "name": "python3"
  },
  "language_info": {
   "codemirror_mode": {
    "name": "ipython",
    "version": 3
   },
   "file_extension": ".py",
   "mimetype": "text/x-python",
   "name": "python",
   "nbconvert_exporter": "python",
   "pygments_lexer": "ipython3",
   "version": "3.11.3"
  },
  "orig_nbformat": 4
 },
 "nbformat": 4,
 "nbformat_minor": 2
}
