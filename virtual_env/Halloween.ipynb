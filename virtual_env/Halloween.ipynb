{
 "cells": [
  {
   "cell_type": "markdown",
   "id": "185f9931-b384-4fdc-a5b2-eea785428bb8",
   "metadata": {},
   "source": [
    "Copyright **`(c)`** 2023 Giovanni Squillero `<giovanni.squillero@polito.it>`  \n",
    "[`https://github.com/squillero/computational-intelligence`](https://github.com/squillero/computational-intelligence)  \n",
    "Free for personal or classroom use; see [`LICENSE.md`](https://github.com/squillero/computational-intelligence/blob/master/LICENSE.md) for details.  "
   ]
  },
  {
   "cell_type": "code",
   "execution_count": 134,
   "id": "3ffe7245-e849-41d0-9698-5f0e0b83fee9",
   "metadata": {},
   "outputs": [],
   "source": [
    "from itertools import product\n",
    "from functools import reduce\n",
    "from random import random, randint, shuffle, seed, choice\n",
    "from scipy import sparse\n",
    "from copy import copy\n",
    "import numpy as np"
   ]
  },
  {
   "cell_type": "code",
   "execution_count": 135,
   "id": "6f03bd67-78a0-4d72-95b7-77a918727b91",
   "metadata": {},
   "outputs": [],
   "source": [
    "def make_set_covering_problem(num_points, num_sets, density):\n",
    "    \"\"\"Returns a sparse array where rows are sets and columns are the covered items\"\"\"\n",
    "    seed(num_points*2654435761+num_sets+density)\n",
    "    sets = sparse.lil_array((num_sets, num_points), dtype=bool)\n",
    "    for s, p in product(range(num_sets), range(num_points)):\n",
    "        if random() < density:\n",
    "            sets[s, p] = True\n",
    "    for p in range(num_points):\n",
    "        sets[randint(0, num_sets-1), p] = True\n",
    "    return sets"
   ]
  },
  {
   "cell_type": "markdown",
   "id": "82b0be37-21d9-492d-9a1d-cf0cdf0ddd76",
   "metadata": {},
   "source": [
    "# Halloween Challenge\n",
    "\n",
    "Find the best solution with the fewest calls to the fitness functions for:\n",
    "\n",
    "* `num_points = [100, 1_000, 5_000]`\n",
    "* `num_sets = num_points`\n",
    "* `density = [.3, .7]` "
   ]
  },
  {
   "cell_type": "markdown",
   "id": "bbcc9670",
   "metadata": {},
   "source": [
    "### Make Sets"
   ]
  },
  {
   "cell_type": "code",
   "execution_count": 136,
   "id": "9ef7215a",
   "metadata": {},
   "outputs": [],
   "source": [
    "# Define some constants\n",
    "MAX_ITERATIONS = 10_000\n",
    "NUM_POINTS = [100, 1_000, 5_000]\n",
    "NUM_SETS = [100, 1_000, 5_000]\n",
    "DENSITY = [0.3, 0.7]\n",
    "INDEX = 0\n",
    "CALLS = 0"
   ]
  },
  {
   "cell_type": "code",
   "execution_count": 137,
   "id": "f9e695ae",
   "metadata": {},
   "outputs": [],
   "source": [
    "# fitnes function\n",
    "def fitness(state, sets):\n",
    "    global CALLS\n",
    "    CALLS += 1\n",
    "    cost = sum(state)\n",
    "    valid = np.sum(\n",
    "        reduce(\n",
    "            np.logical_or,\n",
    "            [sets[:, [i]].toarray() for i, t in enumerate(state) if t],\n",
    "            np.array([False for _ in range(NUM_SETS[INDEX])]),\n",
    "        )\n",
    "    )\n",
    "    return valid, -cost"
   ]
  },
  {
   "cell_type": "code",
   "execution_count": 138,
   "id": "c5711da7",
   "metadata": {},
   "outputs": [],
   "source": [
    "def tweak(state):\n",
    "    new_state = copy(state)\n",
    "    index = randint(0, NUM_SETS[INDEX] - 1)\n",
    "    new_state[index] = not new_state[index]\n",
    "    return new_state"
   ]
  },
  {
   "cell_type": "code",
   "execution_count": 139,
   "id": "5f0d2a05",
   "metadata": {},
   "outputs": [
    {
     "ename": "UnboundLocalError",
     "evalue": "cannot access local variable 'CALLS' where it is not associated with a value",
     "output_type": "error",
     "traceback": [
      "\u001b[1;31m---------------------------------------------------------------------------\u001b[0m",
      "\u001b[1;31mUnboundLocalError\u001b[0m                         Traceback (most recent call last)",
      "\u001b[1;32mc:\\Users\\VG User\\Documents\\GitHub\\ComputationlIntelligence\\virtual_env\\Halloween.ipynb Cella 9\u001b[0m line \u001b[0;36m6\n\u001b[0;32m      <a href='vscode-notebook-cell:/c%3A/Users/VG%20User/Documents/GitHub/ComputationlIntelligence/virtual_env/Halloween.ipynb#X26sZmlsZQ%3D%3D?line=3'>4</a>\u001b[0m \u001b[39mfor\u001b[39;00m step \u001b[39min\u001b[39;00m \u001b[39mrange\u001b[39m(MAX_ITERATIONS):\n\u001b[0;32m      <a href='vscode-notebook-cell:/c%3A/Users/VG%20User/Documents/GitHub/ComputationlIntelligence/virtual_env/Halloween.ipynb#X26sZmlsZQ%3D%3D?line=4'>5</a>\u001b[0m     new_state \u001b[39m=\u001b[39m tweak(current_state)\n\u001b[1;32m----> <a href='vscode-notebook-cell:/c%3A/Users/VG%20User/Documents/GitHub/ComputationlIntelligence/virtual_env/Halloween.ipynb#X26sZmlsZQ%3D%3D?line=5'>6</a>\u001b[0m     fit1 \u001b[39m=\u001b[39m fitness(new_state, sets)\n\u001b[0;32m      <a href='vscode-notebook-cell:/c%3A/Users/VG%20User/Documents/GitHub/ComputationlIntelligence/virtual_env/Halloween.ipynb#X26sZmlsZQ%3D%3D?line=6'>7</a>\u001b[0m     fit2 \u001b[39m=\u001b[39m fitness(current_state, sets)\n\u001b[0;32m      <a href='vscode-notebook-cell:/c%3A/Users/VG%20User/Documents/GitHub/ComputationlIntelligence/virtual_env/Halloween.ipynb#X26sZmlsZQ%3D%3D?line=7'>8</a>\u001b[0m     \u001b[39mif\u001b[39;00m fit1 \u001b[39m>\u001b[39m\u001b[39m=\u001b[39m fit2:\n",
      "\u001b[1;32mc:\\Users\\VG User\\Documents\\GitHub\\ComputationlIntelligence\\virtual_env\\Halloween.ipynb Cella 9\u001b[0m line \u001b[0;36m3\n\u001b[0;32m      <a href='vscode-notebook-cell:/c%3A/Users/VG%20User/Documents/GitHub/ComputationlIntelligence/virtual_env/Halloween.ipynb#X26sZmlsZQ%3D%3D?line=1'>2</a>\u001b[0m \u001b[39mdef\u001b[39;00m \u001b[39mfitness\u001b[39m(state, sets):\n\u001b[1;32m----> <a href='vscode-notebook-cell:/c%3A/Users/VG%20User/Documents/GitHub/ComputationlIntelligence/virtual_env/Halloween.ipynb#X26sZmlsZQ%3D%3D?line=2'>3</a>\u001b[0m     CALLS \u001b[39m+\u001b[39m\u001b[39m=\u001b[39m \u001b[39m1\u001b[39m\n\u001b[0;32m      <a href='vscode-notebook-cell:/c%3A/Users/VG%20User/Documents/GitHub/ComputationlIntelligence/virtual_env/Halloween.ipynb#X26sZmlsZQ%3D%3D?line=3'>4</a>\u001b[0m     cost \u001b[39m=\u001b[39m \u001b[39msum\u001b[39m(state)\n\u001b[0;32m      <a href='vscode-notebook-cell:/c%3A/Users/VG%20User/Documents/GitHub/ComputationlIntelligence/virtual_env/Halloween.ipynb#X26sZmlsZQ%3D%3D?line=4'>5</a>\u001b[0m     valid \u001b[39m=\u001b[39m np\u001b[39m.\u001b[39msum(\n\u001b[0;32m      <a href='vscode-notebook-cell:/c%3A/Users/VG%20User/Documents/GitHub/ComputationlIntelligence/virtual_env/Halloween.ipynb#X26sZmlsZQ%3D%3D?line=5'>6</a>\u001b[0m         reduce(\n\u001b[0;32m      <a href='vscode-notebook-cell:/c%3A/Users/VG%20User/Documents/GitHub/ComputationlIntelligence/virtual_env/Halloween.ipynb#X26sZmlsZQ%3D%3D?line=6'>7</a>\u001b[0m             np\u001b[39m.\u001b[39mlogical_or,\n\u001b[1;32m   (...)\u001b[0m\n\u001b[0;32m     <a href='vscode-notebook-cell:/c%3A/Users/VG%20User/Documents/GitHub/ComputationlIntelligence/virtual_env/Halloween.ipynb#X26sZmlsZQ%3D%3D?line=9'>10</a>\u001b[0m         )\n\u001b[0;32m     <a href='vscode-notebook-cell:/c%3A/Users/VG%20User/Documents/GitHub/ComputationlIntelligence/virtual_env/Halloween.ipynb#X26sZmlsZQ%3D%3D?line=10'>11</a>\u001b[0m     )\n",
      "\u001b[1;31mUnboundLocalError\u001b[0m: cannot access local variable 'CALLS' where it is not associated with a value"
     ]
    }
   ],
   "source": [
    "sets = make_set_covering_problem(NUM_POINTS[INDEX], NUM_SETS[INDEX], DENSITY[INDEX])\n",
    "current_state = [choice([False, False, False, False, False, False]) for _ in range(NUM_SETS[INDEX])]\n",
    "\n",
    "for step in range(MAX_ITERATIONS):\n",
    "    new_state = tweak(current_state)\n",
    "    fit1 = fitness(new_state, sets)\n",
    "    fit2 = fitness(current_state, sets)\n",
    "    if fit1 >= fit2:\n",
    "        current_state = new_state\n",
    "        print(f\"Step {step}: {fit2}\")\n",
    "        \n",
    "print(f'Number of calls to fitness function: {CALLS}')"
   ]
  }
 ],
 "metadata": {
  "kernelspec": {
   "display_name": "Python 3 (ipykernel)",
   "language": "python",
   "name": "python3"
  },
  "language_info": {
   "codemirror_mode": {
    "name": "ipython",
    "version": 3
   },
   "file_extension": ".py",
   "mimetype": "text/x-python",
   "name": "python",
   "nbconvert_exporter": "python",
   "pygments_lexer": "ipython3",
   "version": "3.11.2"
  }
 },
 "nbformat": 4,
 "nbformat_minor": 5
}
