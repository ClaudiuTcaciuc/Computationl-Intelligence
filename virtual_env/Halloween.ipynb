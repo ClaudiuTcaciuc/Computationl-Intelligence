{
 "cells": [
  {
   "cell_type": "markdown",
   "id": "185f9931-b384-4fdc-a5b2-eea785428bb8",
   "metadata": {},
   "source": [
    "Copyright **`(c)`** 2023 Giovanni Squillero `<giovanni.squillero@polito.it>`  \n",
    "[`https://github.com/squillero/computational-intelligence`](https://github.com/squillero/computational-intelligence)  \n",
    "Free for personal or classroom use; see [`LICENSE.md`](https://github.com/squillero/computational-intelligence/blob/master/LICENSE.md) for details.  "
   ]
  },
  {
   "cell_type": "code",
   "execution_count": 140,
   "id": "3ffe7245-e849-41d0-9698-5f0e0b83fee9",
   "metadata": {},
   "outputs": [],
   "source": [
    "from itertools import product\n",
    "from functools import reduce\n",
    "from random import random, randint, shuffle, seed, choice\n",
    "from scipy import sparse\n",
    "from copy import copy\n",
    "import numpy as np"
   ]
  },
  {
   "cell_type": "code",
   "execution_count": 141,
   "id": "6f03bd67-78a0-4d72-95b7-77a918727b91",
   "metadata": {},
   "outputs": [],
   "source": [
    "def make_set_covering_problem(num_points, num_sets, density):\n",
    "    \"\"\"Returns a sparse array where rows are sets and columns are the covered items\"\"\"\n",
    "    seed(num_points*2654435761+num_sets+density)\n",
    "    sets = sparse.lil_array((num_sets, num_points), dtype=bool)\n",
    "    for s, p in product(range(num_sets), range(num_points)):\n",
    "        if random() < density:\n",
    "            sets[s, p] = True\n",
    "    for p in range(num_points):\n",
    "        sets[randint(0, num_sets-1), p] = True\n",
    "    return sets"
   ]
  },
  {
   "cell_type": "markdown",
   "id": "82b0be37-21d9-492d-9a1d-cf0cdf0ddd76",
   "metadata": {},
   "source": [
    "# Halloween Challenge\n",
    "\n",
    "Find the best solution with the fewest calls to the fitness functions for:\n",
    "\n",
    "* `num_points = [100, 1_000, 5_000]`\n",
    "* `num_sets = num_points`\n",
    "* `density = [.3, .7]` "
   ]
  },
  {
   "cell_type": "markdown",
   "id": "bbcc9670",
   "metadata": {},
   "source": [
    "### Make Sets"
   ]
  },
  {
   "cell_type": "code",
   "execution_count": 142,
   "id": "9ef7215a",
   "metadata": {},
   "outputs": [],
   "source": [
    "# Define some constants\n",
    "MAX_ITERATIONS = 10_000\n",
    "NUM_POINTS = [100, 1_000, 5_000]\n",
    "NUM_SETS = [100, 1_000, 5_000]\n",
    "DENSITY = [0.3, 0.7]\n",
    "INDEX = 0\n",
    "CALLS = 0"
   ]
  },
  {
   "cell_type": "code",
   "execution_count": 143,
   "id": "f9e695ae",
   "metadata": {},
   "outputs": [],
   "source": [
    "# fitnes function\n",
    "def fitness(state, sets):\n",
    "    global CALLS\n",
    "    CALLS += 1\n",
    "    cost = sum(state)\n",
    "    valid = np.sum(\n",
    "        reduce(\n",
    "            np.logical_or,\n",
    "            [sets[:, [i]].toarray() for i, t in enumerate(state) if t],\n",
    "            np.array([False for _ in range(NUM_SETS[INDEX])]),\n",
    "        )\n",
    "    )\n",
    "    return valid, -cost"
   ]
  },
  {
   "cell_type": "code",
   "execution_count": 144,
   "id": "c5711da7",
   "metadata": {},
   "outputs": [],
   "source": [
    "def tweak(state):\n",
    "    new_state = copy(state)\n",
    "    index = randint(0, NUM_SETS[INDEX] - 1)\n",
    "    new_state[index] = not new_state[index]\n",
    "    return new_state"
   ]
  },
  {
   "cell_type": "code",
   "execution_count": 145,
   "id": "5f0d2a05",
   "metadata": {},
   "outputs": [
    {
     "name": "stdout",
     "output_type": "stream",
     "text": [
      "Step 0: (0, 0)\n",
      "Step 1: (2600, -1)\n",
      "Step 2: (4800, -2)\n",
      "Step 3: (6400, -3)\n",
      "Step 4: (7200, -4)\n",
      "Step 5: (8200, -5)\n",
      "Step 6: (8900, -6)\n",
      "Step 7: (9200, -7)\n",
      "Step 8: (9500, -8)\n",
      "Step 13: (9700, -9)\n",
      "Step 15: (9700, -8)\n",
      "Step 19: (9900, -9)\n",
      "Step 23: (10000, -10)\n",
      "Step 82: (10000, -9)\n",
      "Number of calls to fitness function: 20000\n"
     ]
    }
   ],
   "source": [
    "sets = make_set_covering_problem(NUM_POINTS[INDEX], NUM_SETS[INDEX], DENSITY[INDEX])\n",
    "current_state = [choice([False, False, False, False, False, False]) for _ in range(NUM_SETS[INDEX])]\n",
    "\n",
    "for step in range(MAX_ITERATIONS):\n",
    "    new_state = tweak(current_state)\n",
    "    fit1 = fitness(new_state, sets)\n",
    "    fit2 = fitness(current_state, sets)\n",
    "    if fit1 >= fit2:\n",
    "        current_state = new_state\n",
    "        print(f\"Step {step}: {fit2}\")\n",
    "        \n",
    "print(f'Number of calls to fitness function: {CALLS}')"
   ]
  }
 ],
 "metadata": {
  "kernelspec": {
   "display_name": "Python 3 (ipykernel)",
   "language": "python",
   "name": "python3"
  },
  "language_info": {
   "codemirror_mode": {
    "name": "ipython",
    "version": 3
   },
   "file_extension": ".py",
   "mimetype": "text/x-python",
   "name": "python",
   "nbconvert_exporter": "python",
   "pygments_lexer": "ipython3",
   "version": "3.11.2"
  }
 },
 "nbformat": 4,
 "nbformat_minor": 5
}
