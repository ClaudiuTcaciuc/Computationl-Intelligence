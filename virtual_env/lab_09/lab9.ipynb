{
 "cells": [
  {
   "cell_type": "markdown",
   "metadata": {},
   "source": [
    "Copyright **`(c)`** 2023 Giovanni Squillero `<giovanni.squillero@polito.it>`  \n",
    "[`https://github.com/squillero/computational-intelligence`](https://github.com/squillero/computational-intelligence)  \n",
    "Free for personal or classroom use; see [`LICENSE.md`](https://github.com/squillero/computational-intelligence/blob/master/LICENSE.md) for details.  "
   ]
  },
  {
   "cell_type": "markdown",
   "metadata": {},
   "source": [
    "# LAB9\n",
    "\n",
    "Write a local-search algorithm (eg. an EA) able to solve the *Problem* instances 1, 2, 5, and 10 on a 1000-loci genomes, using a minimum number of fitness calls. That's all.\n",
    "\n",
    "### Deadlines:\n",
    "\n",
    "* Submission: Sunday, December 3 ([CET](https://www.timeanddate.com/time/zones/cet))\n",
    "* Reviews: Sunday, December 10 ([CET](https://www.timeanddate.com/time/zones/cet))\n",
    "\n",
    "Notes:\n",
    "\n",
    "* Reviews will be assigned  on Monday, December 4\n",
    "* You need to commit in order to be selected as a reviewer (ie. better to commit an empty work than not to commit)"
   ]
  },
  {
   "cell_type": "code",
   "execution_count": 125,
   "metadata": {},
   "outputs": [],
   "source": [
    "from random import choices, random, randint\n",
    "import lab9_lib"
   ]
  },
  {
   "cell_type": "code",
   "execution_count": 126,
   "metadata": {},
   "outputs": [
    {
     "name": "stdout",
     "output_type": "stream",
     "text": [
      "01000100111100010100001001011111101011011111010100: 52.00%\n",
      "1\n"
     ]
    }
   ],
   "source": [
    "pop = 1\n",
    "fitness = lab9_lib.make_problem(pop)\n",
    "for n in range(pop):\n",
    "    ind = choices([0, 1], k=50)\n",
    "    print(f\"{''.join(str(g) for g in ind)}: {fitness(ind):.2%}\")\n",
    "\n",
    "print(fitness.calls)"
   ]
  },
  {
   "cell_type": "markdown",
   "metadata": {},
   "source": [
    "### Local Search EA:\n",
    "The algorithm runs for a specified number of generation, evolving the population to improve the best fitness.\n",
    "In each generation:\n",
    "- Parents are selected from the current population using the `select` method\n",
    "- Cross-over is applied to the parents to generate the offspring\n",
    "- Mutation is applied to the offspring to generate the mutated offspring\n",
    "- The worst individuals (based on fitness) are replaced by the mutated offspring\n",
    "\n",
    "To reduce the number of fitness calls, the algorithm keeps track of the stagnation of the best fitness. If the best fitness does not improve for a specified number of generations, the algorithm stops. Also, if the best fitness arrives at a certain threshold, the algorithm stops."
   ]
  },
  {
   "cell_type": "code",
   "execution_count": 127,
   "metadata": {},
   "outputs": [],
   "source": [
    "class LocalSearchEA:\n",
    "    def __init__(self, fitness_function, population_size=10, num_generations=100, mutation_rate=0.1, max_stagnation=20):\n",
    "        self.fitness_function = fitness_function\n",
    "        self.population_size = population_size\n",
    "        self.num_generations = num_generations\n",
    "        self.mutation_rate = mutation_rate\n",
    "        self.max_stagnation = max_stagnation\n",
    "    \n",
    "    def initialize_population(self):\n",
    "        k = 1000\n",
    "        return [choices([0, 1], k=k) for _ in range(self.population_size)]\n",
    "    \n",
    "    def mutate(self, individual):\n",
    "        return [1 - gene if random() < self.mutation_rate else gene for gene in individual]\n",
    "    \n",
    "    def crossover(self, parent1, parent2):\n",
    "        k = randint(1, len(parent1) - 1)\n",
    "        child1 = parent1[:k] + parent2[k:]\n",
    "        child2 = parent2[:k] + parent1[k:]\n",
    "        return child1, child2\n",
    "    \n",
    "    def select(self, population):\n",
    "        return choices(population, k=2, weights=[self.fitness_function(individual) for individual in population])\n",
    "    \n",
    "    def run(self):\n",
    "        population = self.initialize_population()\n",
    "        best_individual = max(population, key=self.fitness_function)\n",
    "        best_fitness = self.fitness_function(best_individual)\n",
    "        stagnation_count = 0\n",
    "        \n",
    "        for generation in range(1, self.num_generations + 1):\n",
    "            paren1, parent2 = self.select(population)\n",
    "            child1, child2 = self.crossover(paren1, parent2)\n",
    "            child1 = self.mutate(child1)\n",
    "            child2 = self.mutate(child2)\n",
    "            \n",
    "            # Replace worst individual with best child\n",
    "            worst_individual = min(population, key=self.fitness_function)\n",
    "            population.remove(worst_individual)\n",
    "            population.extend([child1, child2])\n",
    "            \n",
    "            current_best_individual = max(population, key=self.fitness_function)\n",
    "            current_best_fitness = self.fitness_function(current_best_individual)\n",
    "            \n",
    "            if current_best_fitness > best_fitness:\n",
    "                best_individual = current_best_individual\n",
    "                best_fitness = current_best_fitness\n",
    "                stagnation_count = 0\n",
    "            else:\n",
    "                stagnation_count += 1\n",
    "                \n",
    "            if stagnation_count >= self.max_stagnation:\n",
    "                print(f\"Stopping early after {generation} generations due to stagnation.\")\n",
    "                break\n",
    "                \n",
    "            if best_fitness >= 0.99:\n",
    "                print(f\"Stopping early after {generation} generations due to fitness convergence.\")\n",
    "                break\n",
    "        print(f\"fitness: {best_fitness},\\nfitness calls: {self.fitness_function.calls}\")\n",
    "    "
   ]
  },
  {
   "cell_type": "markdown",
   "metadata": {},
   "source": [
    "### Parameters:\n",
    "Parameters are set by default, could be changed to get better results. \n",
    "- MUTATION_RATE: probability of mutation per gene in an individual\n",
    "- NUM_GENERATIONS: number of generations to run the algorithm for before stopping, coul be increase to better results, but it will take more time\n",
    "- MAX_STAGNATION: number of generations to run the algorithm without improvement before stopping, could be increased to better results, but it will take more time"
   ]
  },
  {
   "cell_type": "code",
   "execution_count": 128,
   "metadata": {},
   "outputs": [],
   "source": [
    "MUTATION_RATE = 0.15 # probability of mutation per gene in an individual\n",
    "NUM_GENERATIONS = 1000 # number of generations to run the algorithm for before stopping, coul be increase to better results, but it will take more time\n",
    "MAX_STAGNATION = 100 # number of generations to run the algorithm without improvement before stopping, could be increased to better results, but it will take more time"
   ]
  },
  {
   "cell_type": "code",
   "execution_count": 129,
   "metadata": {},
   "outputs": [
    {
     "name": "stdout",
     "output_type": "stream",
     "text": [
      "Local Search evolutionary algorithm with 1 instance(s)\n",
      "Stopping early after 274 generations due to stagnation.\n",
      "fitness: 0.76,\n",
      "fitness calls: 113575\n"
     ]
    }
   ],
   "source": [
    "instances = 1\n",
    "print(f\"Local Search evolutionary algorithm with {instances} instance(s)\")\n",
    "fitness = lab9_lib.make_problem(instances)\n",
    "ea = LocalSearchEA(fitness, \n",
    "                   population_size=instances, \n",
    "                   num_generations=NUM_GENERATIONS, \n",
    "                   mutation_rate=MUTATION_RATE, \n",
    "                   max_stagnation=MAX_STAGNATION)\n",
    "ea.run()"
   ]
  },
  {
   "cell_type": "code",
   "execution_count": 130,
   "metadata": {},
   "outputs": [
    {
     "name": "stdout",
     "output_type": "stream",
     "text": [
      "Local Search evolutionary algorithm with 2 instance(s)\n",
      "Stopping early after 242 generations due to stagnation.\n",
      "fitness: 0.72,\n",
      "fitness calls: 89422\n"
     ]
    }
   ],
   "source": [
    "instances = 2\n",
    "print(f\"Local Search evolutionary algorithm with {instances} instance(s)\")\n",
    "fitness = lab9_lib.make_problem(instances)\n",
    "ea = LocalSearchEA(fitness, \n",
    "                   population_size=instances, \n",
    "                   num_generations=NUM_GENERATIONS, \n",
    "                   mutation_rate=MUTATION_RATE, \n",
    "                   max_stagnation=MAX_STAGNATION)\n",
    "ea.run()"
   ]
  },
  {
   "cell_type": "code",
   "execution_count": 131,
   "metadata": {},
   "outputs": [
    {
     "name": "stdout",
     "output_type": "stream",
     "text": [
      "Local Search evolutionary algorithm with 5 instance(s)\n",
      "Stopping early after 119 generations due to stagnation.\n",
      "fitness: 0.55,\n",
      "fitness calls: 23092\n"
     ]
    }
   ],
   "source": [
    "instances = 5\n",
    "print(f\"Local Search evolutionary algorithm with {instances} instance(s)\")\n",
    "fitness = lab9_lib.make_problem(instances)\n",
    "ea = LocalSearchEA(fitness, \n",
    "                   population_size=instances, \n",
    "                   num_generations=NUM_GENERATIONS, \n",
    "                   mutation_rate=MUTATION_RATE, \n",
    "                   max_stagnation=MAX_STAGNATION)\n",
    "ea.run()"
   ]
  },
  {
   "cell_type": "code",
   "execution_count": 132,
   "metadata": {},
   "outputs": [
    {
     "name": "stdout",
     "output_type": "stream",
     "text": [
      "Local Search evolutionary algorithm with 10 instance(s)\n",
      "Stopping early after 201 generations due to stagnation.\n",
      "fitness: 0.473378,\n",
      "fitness calls: 66743\n"
     ]
    }
   ],
   "source": [
    "instances = 10\n",
    "print(f\"Local Search evolutionary algorithm with {instances} instance(s)\")\n",
    "fitness = lab9_lib.make_problem(instances)\n",
    "ea = LocalSearchEA(fitness, \n",
    "                   population_size=instances, \n",
    "                   num_generations=NUM_GENERATIONS, \n",
    "                   mutation_rate=MUTATION_RATE, \n",
    "                   max_stagnation=MAX_STAGNATION)\n",
    "ea.run()"
   ]
  }
 ],
 "metadata": {
  "kernelspec": {
   "display_name": "ci-fLJ3OwGs-py3.12",
   "language": "python",
   "name": "python3"
  },
  "language_info": {
   "codemirror_mode": {
    "name": "ipython",
    "version": 3
   },
   "file_extension": ".py",
   "mimetype": "text/x-python",
   "name": "python",
   "nbconvert_exporter": "python",
   "pygments_lexer": "ipython3",
   "version": "3.11.2"
  }
 },
 "nbformat": 4,
 "nbformat_minor": 2
}
