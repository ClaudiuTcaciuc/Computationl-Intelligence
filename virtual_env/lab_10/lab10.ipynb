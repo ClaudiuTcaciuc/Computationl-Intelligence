{
 "cells": [
  {
   "cell_type": "markdown",
   "metadata": {},
   "source": [
    "Copyright **`(c)`** 2023 Giovanni Squillero `<giovanni.squillero@polito.it>`  \n",
    "[`https://github.com/squillero/computational-intelligence`](https://github.com/squillero/computational-intelligence)  \n",
    "Free for personal or classroom use; see [`LICENSE.md`](https://github.com/squillero/computational-intelligence/blob/master/LICENSE.md) for details.  "
   ]
  },
  {
   "cell_type": "markdown",
   "metadata": {},
   "source": [
    "# LAB10\n",
    "\n",
    "Use reinforcement learning to devise a tic-tac-toe player.\n",
    "\n",
    "### Deadlines:\n",
    "\n",
    "* Submission: [Dies Natalis Solis Invicti](https://en.wikipedia.org/wiki/Sol_Invictus)\n",
    "* Reviews: [Befana](https://en.wikipedia.org/wiki/Befana)\n",
    "\n",
    "Notes:\n",
    "\n",
    "* Reviews will be assigned  on Monday, December 4\n",
    "* You need to commit in order to be selected as a reviewer (ie. better to commit an empty work than not to commit)"
   ]
  },
  {
   "cell_type": "code",
   "execution_count": 221,
   "metadata": {},
   "outputs": [],
   "source": [
    "import numpy as np\n",
    "import random\n"
   ]
  },
  {
   "cell_type": "markdown",
   "metadata": {},
   "source": [
    "I used this site to help me with the code:\n",
    "\n",
    "- [Building a Tic-Tac-Toe Game with Reinforcement Learning in Python: A Step-by-Step Tutorial](https://plainenglish.io/blog/building-a-tic-tac-toe-game-with-reinforcement-learning-in-python)\n"
   ]
  },
  {
   "cell_type": "markdown",
   "metadata": {},
   "source": [
    "### Instantiate a tic-tac-toe game\n",
    "The following class provides all tools to play a **tic-tac-toe** game. The game is played on a 3x3 board, where each cell can be empty, or occupied by a player's token (either `X` or `O`). The game is played by two players, `X` and `O`, that alternate in placing their tokens on the board. The game ends when one of the players manages to place three tokens in a row, either horizontally, vertically, or diagonally. If all the cells are occupied and no player managed to place three tokens in a row, the game ends in a draw."
   ]
  },
  {
   "cell_type": "code",
   "execution_count": 222,
   "metadata": {},
   "outputs": [],
   "source": [
    "class TicTacToe:\n",
    "    def __init__(self):\n",
    "        self.board = [\" \"] * 9\n",
    "        self.current_player = \"X\"\n",
    "        self.winner = None\n",
    "    \n",
    "    def display_board(self):\n",
    "        \"\"\" Display the current state of the board. \"\"\"\n",
    "        for i in range(0, 9, 3):\n",
    "            print(f\"{self.board[i]} | {self.board[i+1]} | {self.board[i+2]}\")\n",
    "            if i != 6:\n",
    "                print(\"---------\")\n",
    "        print(\"\\n\")\n",
    "    \n",
    "    def check_winner(self):\n",
    "        \"\"\" Check if there is a winner. If there is, set self.winner to the winner's symbol. \"\"\"\n",
    "        # check rows\n",
    "        for i in range(0, 9, 3):\n",
    "            if self.board[i] == self.board[i+1] == self.board[i+2] != \" \":\n",
    "                self.winner = self.current_player\n",
    "                return\n",
    "        \n",
    "        # check columns\n",
    "        for i in range(3):\n",
    "            if self.board[i] == self.board[i+3] == self.board[i+6] != \" \":\n",
    "                self.winner = self.current_player\n",
    "                return\n",
    "        \n",
    "        # check diagonals\n",
    "        if self.board[0] == self.board[4] == self.board[8] != \" \" or self.board[2] == self.board[4] == self.board[6] != \" \":\n",
    "            self.winner = self.current_player\n",
    "            return\n",
    "    \n",
    "    def switch_player(self):\n",
    "        \"\"\" Switch the current player. \"\"\"\n",
    "        self.current_player = \"O\" if self.current_player == \"X\" else \"X\"\n",
    "    \n",
    "    def make_move(self, position):\n",
    "        if self.board[position] == \" \":\n",
    "            self.board[position] = self.current_player\n",
    "            self.check_winner()\n",
    "            self.switch_player()\n",
    "            return True\n",
    "        else:\n",
    "            print(\"Invalid move! You can't take a spot that's already taken.\")\n",
    "            return False\n",
    "    \n",
    "    def full_board(self):\n",
    "        \"\"\" Check if the board is full. \"\"\"\n",
    "        return \" \" not in self.board\n",
    "    \n",
    "    def game_over(self):\n",
    "        \"\"\" Check if the game is over.\"\"\"\n",
    "        return self.winner is not None or self.full_board()\n",
    "            \n",
    "            "
   ]
  },
  {
   "cell_type": "markdown",
   "metadata": {},
   "source": [
    "The RandomPlayer class is a player that selects a random move among the available ones."
   ]
  },
  {
   "cell_type": "code",
   "execution_count": 223,
   "metadata": {},
   "outputs": [],
   "source": [
    "class RandomPlayer:\n",
    "    def get_move(self, game):\n",
    "        valid_moves = [i for i in range(9) if game.board[i] == \" \"]\n",
    "        return random.choice(valid_moves)"
   ]
  },
  {
   "cell_type": "markdown",
   "metadata": {},
   "source": [
    "The QLearningPlayer class is a player that uses Q-learning to learn how to play the game. \n",
    "\n",
    "The `get_move` method choose a move randomly if the probability `epsilon` is less than a random number, otherwise it chooses the move with the highest Q-value.\n",
    "The `update` method updates the Q-values of the previous state-action pair, using the Q-learning rule.\n",
    "- Q-learning rule: `Q(s,a) = Q(s,a) + alpha * (reward + gamma * max(Q(s') - Q(s,a))`\n"
   ]
  },
  {
   "cell_type": "code",
   "execution_count": 224,
   "metadata": {},
   "outputs": [],
   "source": [
    "class QLearningPlayer:\n",
    "    def __init__(self, alpha, epsilon, gamma):\n",
    "        self.q_values = {}\n",
    "        self.alpha = alpha\n",
    "        self.epsilon = epsilon\n",
    "        self.gamma = gamma\n",
    "    \n",
    "    def get_move(self, game):\n",
    "        if random.uniform(0, 1) < self.epsilon:\n",
    "            available_moves = [i for i in range(9) if game.board[i] == \" \"]\n",
    "            return random.choice(available_moves) \n",
    "        else:\n",
    "            current_board_state = tuple(game.board)\n",
    "            available_moves = [i for i in range(9) if game.board[i] == \" \"]\n",
    "            q_values = {move: self.q_values.get((current_board_state, move), 0) for move in available_moves}\n",
    "            return max(q_values, key=q_values.get)\n",
    "    \n",
    "    def update_q_value(self, state, action, reward, next_state):\n",
    "        current_q_value = self.q_values.get((state, action), 0)\n",
    "        max_next_q_value = max([self.q_values.get((next_state, next_action), 0) for next_action in range(9)])\n",
    "        new_q_value = current_q_value + self.alpha * (reward + self.gamma * max_next_q_value - current_q_value)\n",
    "        self.q_values[(state, action)] = new_q_value"
   ]
  },
  {
   "cell_type": "markdown",
   "metadata": {},
   "source": [
    "The `train` function trains the player for a given number of epochs. At each epoch, the player plays a game against a random player, and updates the Q-values according to the Q-learning rule. The `train` method returns the list of rewards obtained at each epoch.\n",
    "- number of epochs: `10_000`"
   ]
  },
  {
   "cell_type": "code",
   "execution_count": 225,
   "metadata": {},
   "outputs": [],
   "source": [
    "def train_agent(random_agent, learning_agent, epochs):\n",
    "    for _ in range(epochs):\n",
    "        game = TicTacToe()\n",
    "        \n",
    "        while not game.game_over():\n",
    "            if game.current_player == \"X\":\n",
    "                move = learning_agent.get_move(game)\n",
    "            else:\n",
    "                move = random_agent.get_move(game)\n",
    "            \n",
    "            current_board_state = tuple(game.board)\n",
    "            game.make_move(move)\n",
    "            \n",
    "            if game.game_over():\n",
    "                reward = 2 if game.winner == \"X\" else -1 if game.winner == \"O\" else 0\n",
    "                learning_agent.update_q_value(current_board_state, move, reward, tuple(game.board))"
   ]
  },
  {
   "cell_type": "markdown",
   "metadata": {},
   "source": [
    "The `test` function tests the player for a given number of epochs. At each epoch, the player plays a game against a random player, and returns the number of wins, draws, and losses.\n",
    "- number of epochs: `1_000`"
   ]
  },
  {
   "cell_type": "code",
   "execution_count": 226,
   "metadata": {},
   "outputs": [],
   "source": [
    "def test_agent(random_agent, learning_agent, epochs):\n",
    "    learning_agent.epsilon = 0 # turn off exploration\n",
    "    wins = 0\n",
    "    draws = 0\n",
    "    \n",
    "    for _ in range(epochs):\n",
    "        game = TicTacToe()\n",
    "        while not game.game_over():\n",
    "            if game.current_player == \"X\":\n",
    "                move = learning_agent.get_move(game)\n",
    "            else:\n",
    "                move = random_agent.get_move(game)\n",
    "            \n",
    "            game.make_move(move)\n",
    "            \n",
    "            if game.game_over():\n",
    "                if game.winner == \"X\":\n",
    "                    wins += 1\n",
    "                else:\n",
    "                    draws += 1\n",
    "    \n",
    "    win_rate = wins / (wins + draws)\n",
    "    return win_rate"
   ]
  },
  {
   "cell_type": "markdown",
   "metadata": {},
   "source": [
    "This function plays a game between two players, and returns the winner of the game."
   ]
  },
  {
   "cell_type": "code",
   "execution_count": 227,
   "metadata": {},
   "outputs": [],
   "source": [
    "def play_game(player1, player2):\n",
    "    game = TicTacToe()\n",
    "    \n",
    "    while not game.game_over():\n",
    "        if game.current_player == \"X\":\n",
    "            move = player2.get_move(game)\n",
    "        else:\n",
    "            move = player1.get_move(game)\n",
    "        \n",
    "        game.make_move(move)\n",
    "        \n",
    "        if game.game_over():\n",
    "            game.display_board()\n",
    "            if game.winner is not None:\n",
    "                winner = \"QLearningPlayer\" if game.winner == \"X\" else \"RandomPlayer\"\n",
    "                print(f\"{winner} wins!\")\n",
    "            else:\n",
    "                print(\"It's a tie!\")"
   ]
  },
  {
   "cell_type": "markdown",
   "metadata": {},
   "source": [
    "Parameters for learning agent (Q-learning):\n",
    "- Alpha: learning rate\n",
    "  - determines the extent to wich newly acquired information overrides old information\n",
    "  - 0: the agent does not learn anything\n",
    "  - 1: the agent considers only the most recent information\n",
    "  - 0.1 is a good starting point\n",
    "- Gamma: discount factor\n",
    "  - determines the importance of future rewards\n",
    "  - 0: the agent is myopic (short-sighted)\n",
    "  - 1: the agent is far-sighted\n",
    "  - 0.9 is a good starting point\n",
    "- Epsilon: exploration rate\n",
    "  - determines the probability that the agent will explore the environment rather than exploiting it\n",
    "  - 0: the agent is greedy\n",
    "  - 1: the agent always explores\n",
    "  - 0.1 is a good starting point"
   ]
  },
  {
   "cell_type": "markdown",
   "metadata": {},
   "source": [
    "Now we will train an agent to play tic-tac-toe using pre-defined parameters for the learning agent. The agent will play against a random player, and we will see how the agent's performance improves over time.\n",
    "- `alpha = 0.1`\n",
    "- `epsilon = 0.1`\n",
    "- `gamma = 0.9`"
   ]
  },
  {
   "cell_type": "code",
   "execution_count": 228,
   "metadata": {},
   "outputs": [
    {
     "name": "stdout",
     "output_type": "stream",
     "text": [
      "Training...\n"
     ]
    },
    {
     "name": "stdout",
     "output_type": "stream",
     "text": [
      "Testing...\n",
      "\n",
      "Learning agent has a win rate of 85.50% against a random agent\n",
      "\n",
      "Play one more game against the agent after the training:\n",
      "X | X | X\n",
      "---------\n",
      "O |   |  \n",
      "---------\n",
      "  |   | O\n",
      "\n",
      "\n",
      "QLearningPlayer wins!\n"
     ]
    }
   ],
   "source": [
    "random_player = RandomPlayer()\n",
    "learning_player = QLearningPlayer(\n",
    "    alpha=0.5,\n",
    "    epsilon=0.1,\n",
    "    gamma=0.9\n",
    ")\n",
    "print(\"Training...\")\n",
    "train_agent(random_player, learning_player, 10000)\n",
    "print(\"Testing...\\n\")\n",
    "win_rate = test_agent(random_player, learning_player, 1000)\n",
    "print(f\"Learning agent has a win rate of {(win_rate*100):.2f}% against a random agent\")\n",
    "\n",
    "print(\"\\nPlay one more game against the agent after the training:\")\n",
    "play_game(random_player, learning_player)"
   ]
  },
  {
   "cell_type": "markdown",
   "metadata": {},
   "source": [
    "Now we will train an agent for each combination of parameters, and we will see how the agent's performance changes with different values of `alpha`, `epsilon`, and `gamma`.\n",
    "- `alpha = np.linspace(0.1, 1, 5)`\n",
    "- `epsilon = np.linspace(0.1, 1, 5)`\n",
    "- `gamma = np.linspace(0.1, 1, 5)`\n",
    "\n",
    "To make the code a little faster I choose a smaller number of epochs: `1_000`."
   ]
  },
  {
   "cell_type": "code",
   "execution_count": 229,
   "metadata": {},
   "outputs": [
    {
     "name": "stdout",
     "output_type": "stream",
     "text": [
      "Best win rate: 87.90%\n",
      "Best parameters: (0.505, 0.505, 0.7525)\n",
      "\n",
      "Play one more game against the agent after the training with the best parameters:\n",
      "X | O | X\n",
      "---------\n",
      "O | O | X\n",
      "---------\n",
      "O | X | X\n",
      "\n",
      "\n",
      "QLearningPlayer wins!\n"
     ]
    }
   ],
   "source": [
    "from itertools import product\n",
    "\n",
    "random_player = RandomPlayer()\n",
    "alpha = np.linspace(0.01, 1, 5)\n",
    "epsilon = np.linspace(0.01, 1, 5)\n",
    "gamma = np.linspace(0.01, 1, 5)\n",
    "best_win_rate = 0\n",
    "best_params = None\n",
    "\n",
    "for a, e, g in product(alpha, epsilon, gamma):\n",
    "    learning_player = QLearningPlayer(\n",
    "        alpha=a,\n",
    "        epsilon=e,\n",
    "        gamma=g\n",
    "    )\n",
    "    train_agent(random_player, learning_player, 1000)\n",
    "    win_rate = test_agent(random_player, learning_player, 1000)\n",
    "    if win_rate > best_win_rate:\n",
    "        best_win_rate = win_rate\n",
    "        best_params = (a, e, g)\n",
    "\n",
    "print(f\"Best win rate: {(best_win_rate*100):.2f}%\")\n",
    "print(f\"Best parameters: {best_params}\")\n",
    "\n",
    "random_player = RandomPlayer()\n",
    "learning_player = QLearningPlayer(\n",
    "    alpha=best_params[0],\n",
    "    epsilon=best_params[1],\n",
    "    gamma=best_params[2]\n",
    ")\n",
    "\n",
    "print(\"\\nPlay one more game against the agent after the training with the best parameters:\")\n",
    "play_game(random_player, learning_player)"
   ]
  },
  {
   "cell_type": "markdown",
   "metadata": {},
   "source": [
    "Test to improve the execution time by using the `concurrent` module to parallelize the training of the agents. Tried to use the `multiprocessing` module, but it seems that it does not work well with Jupyter notebooks."
   ]
  },
  {
   "cell_type": "code",
   "execution_count": 230,
   "metadata": {},
   "outputs": [],
   "source": [
    "from concurrent.futures import ThreadPoolExecutor\n",
    "from itertools import product\n",
    "\n",
    "def train_and_test_agent(args):\n",
    "    alpha, epsilon, gamma = args\n",
    "    random_player = RandomPlayer()\n",
    "    learning_player = QLearningPlayer(alpha=alpha, epsilon=epsilon, gamma=gamma)\n",
    "    train_agent(random_player, learning_player, 1000)\n",
    "    win_rate = test_agent(random_player, learning_player, 1000)\n",
    "    return win_rate, (alpha, epsilon, gamma)"
   ]
  },
  {
   "cell_type": "code",
   "execution_count": 231,
   "metadata": {},
   "outputs": [
    {
     "ename": "KeyboardInterrupt",
     "evalue": "",
     "output_type": "error",
     "traceback": [
      "\u001b[1;31m---------------------------------------------------------------------------\u001b[0m",
      "\u001b[1;31mKeyboardInterrupt\u001b[0m                         Traceback (most recent call last)",
      "Cell \u001b[1;32mIn[231], line 9\u001b[0m\n\u001b[0;32m      6\u001b[0m params_combinations \u001b[38;5;241m=\u001b[39m \u001b[38;5;28mlist\u001b[39m(product(alpha, epsilon, gamma))\n\u001b[0;32m      8\u001b[0m \u001b[38;5;28;01mwith\u001b[39;00m ThreadPoolExecutor(max_workers\u001b[38;5;241m=\u001b[39m\u001b[38;5;241m8\u001b[39m) \u001b[38;5;28;01mas\u001b[39;00m executor:\n\u001b[1;32m----> 9\u001b[0m     results \u001b[38;5;241m=\u001b[39m \u001b[38;5;28;43mlist\u001b[39;49m\u001b[43m(\u001b[49m\u001b[43mexecutor\u001b[49m\u001b[38;5;241;43m.\u001b[39;49m\u001b[43mmap\u001b[49m\u001b[43m(\u001b[49m\u001b[43mtrain_and_test_agent\u001b[49m\u001b[43m,\u001b[49m\u001b[43m \u001b[49m\u001b[43mparams_combinations\u001b[49m\u001b[43m)\u001b[49m\u001b[43m)\u001b[49m\n\u001b[0;32m     11\u001b[0m best_win_rate, best_params \u001b[38;5;241m=\u001b[39m \u001b[38;5;28mmax\u001b[39m(results, key\u001b[38;5;241m=\u001b[39m\u001b[38;5;28;01mlambda\u001b[39;00m x: x[\u001b[38;5;241m0\u001b[39m])\n\u001b[0;32m     13\u001b[0m \u001b[38;5;28mprint\u001b[39m(\u001b[38;5;124mf\u001b[39m\u001b[38;5;124m\"\u001b[39m\u001b[38;5;124mBest win rate: \u001b[39m\u001b[38;5;132;01m{\u001b[39;00m(best_win_rate\u001b[38;5;241m*\u001b[39m\u001b[38;5;241m100\u001b[39m)\u001b[38;5;132;01m:\u001b[39;00m\u001b[38;5;124m.2f\u001b[39m\u001b[38;5;132;01m}\u001b[39;00m\u001b[38;5;124m%\u001b[39m\u001b[38;5;124m\"\u001b[39m)\n",
      "File \u001b[1;32m~\\AppData\\Local\\Programs\\Python\\Python311\\Lib\\concurrent\\futures\\_base.py:619\u001b[0m, in \u001b[0;36mExecutor.map.<locals>.result_iterator\u001b[1;34m()\u001b[0m\n\u001b[0;32m    616\u001b[0m \u001b[38;5;28;01mwhile\u001b[39;00m fs:\n\u001b[0;32m    617\u001b[0m     \u001b[38;5;66;03m# Careful not to keep a reference to the popped future\u001b[39;00m\n\u001b[0;32m    618\u001b[0m     \u001b[38;5;28;01mif\u001b[39;00m timeout \u001b[38;5;129;01mis\u001b[39;00m \u001b[38;5;28;01mNone\u001b[39;00m:\n\u001b[1;32m--> 619\u001b[0m         \u001b[38;5;28;01myield\u001b[39;00m \u001b[43m_result_or_cancel\u001b[49m\u001b[43m(\u001b[49m\u001b[43mfs\u001b[49m\u001b[38;5;241;43m.\u001b[39;49m\u001b[43mpop\u001b[49m\u001b[43m(\u001b[49m\u001b[43m)\u001b[49m\u001b[43m)\u001b[49m\n\u001b[0;32m    620\u001b[0m     \u001b[38;5;28;01melse\u001b[39;00m:\n\u001b[0;32m    621\u001b[0m         \u001b[38;5;28;01myield\u001b[39;00m _result_or_cancel(fs\u001b[38;5;241m.\u001b[39mpop(), end_time \u001b[38;5;241m-\u001b[39m time\u001b[38;5;241m.\u001b[39mmonotonic())\n",
      "File \u001b[1;32m~\\AppData\\Local\\Programs\\Python\\Python311\\Lib\\concurrent\\futures\\_base.py:317\u001b[0m, in \u001b[0;36m_result_or_cancel\u001b[1;34m(***failed resolving arguments***)\u001b[0m\n\u001b[0;32m    315\u001b[0m \u001b[38;5;28;01mtry\u001b[39;00m:\n\u001b[0;32m    316\u001b[0m     \u001b[38;5;28;01mtry\u001b[39;00m:\n\u001b[1;32m--> 317\u001b[0m         \u001b[38;5;28;01mreturn\u001b[39;00m \u001b[43mfut\u001b[49m\u001b[38;5;241;43m.\u001b[39;49m\u001b[43mresult\u001b[49m\u001b[43m(\u001b[49m\u001b[43mtimeout\u001b[49m\u001b[43m)\u001b[49m\n\u001b[0;32m    318\u001b[0m     \u001b[38;5;28;01mfinally\u001b[39;00m:\n\u001b[0;32m    319\u001b[0m         fut\u001b[38;5;241m.\u001b[39mcancel()\n",
      "File \u001b[1;32m~\\AppData\\Local\\Programs\\Python\\Python311\\Lib\\concurrent\\futures\\_base.py:451\u001b[0m, in \u001b[0;36mFuture.result\u001b[1;34m(self, timeout)\u001b[0m\n\u001b[0;32m    448\u001b[0m \u001b[38;5;28;01melif\u001b[39;00m \u001b[38;5;28mself\u001b[39m\u001b[38;5;241m.\u001b[39m_state \u001b[38;5;241m==\u001b[39m FINISHED:\n\u001b[0;32m    449\u001b[0m     \u001b[38;5;28;01mreturn\u001b[39;00m \u001b[38;5;28mself\u001b[39m\u001b[38;5;241m.\u001b[39m__get_result()\n\u001b[1;32m--> 451\u001b[0m \u001b[38;5;28;43mself\u001b[39;49m\u001b[38;5;241;43m.\u001b[39;49m\u001b[43m_condition\u001b[49m\u001b[38;5;241;43m.\u001b[39;49m\u001b[43mwait\u001b[49m\u001b[43m(\u001b[49m\u001b[43mtimeout\u001b[49m\u001b[43m)\u001b[49m\n\u001b[0;32m    453\u001b[0m \u001b[38;5;28;01mif\u001b[39;00m \u001b[38;5;28mself\u001b[39m\u001b[38;5;241m.\u001b[39m_state \u001b[38;5;129;01min\u001b[39;00m [CANCELLED, CANCELLED_AND_NOTIFIED]:\n\u001b[0;32m    454\u001b[0m     \u001b[38;5;28;01mraise\u001b[39;00m CancelledError()\n",
      "File \u001b[1;32m~\\AppData\\Local\\Programs\\Python\\Python311\\Lib\\threading.py:320\u001b[0m, in \u001b[0;36mCondition.wait\u001b[1;34m(self, timeout)\u001b[0m\n\u001b[0;32m    318\u001b[0m \u001b[38;5;28;01mtry\u001b[39;00m:    \u001b[38;5;66;03m# restore state no matter what (e.g., KeyboardInterrupt)\u001b[39;00m\n\u001b[0;32m    319\u001b[0m     \u001b[38;5;28;01mif\u001b[39;00m timeout \u001b[38;5;129;01mis\u001b[39;00m \u001b[38;5;28;01mNone\u001b[39;00m:\n\u001b[1;32m--> 320\u001b[0m         \u001b[43mwaiter\u001b[49m\u001b[38;5;241;43m.\u001b[39;49m\u001b[43macquire\u001b[49m\u001b[43m(\u001b[49m\u001b[43m)\u001b[49m\n\u001b[0;32m    321\u001b[0m         gotit \u001b[38;5;241m=\u001b[39m \u001b[38;5;28;01mTrue\u001b[39;00m\n\u001b[0;32m    322\u001b[0m     \u001b[38;5;28;01melse\u001b[39;00m:\n",
      "\u001b[1;31mKeyboardInterrupt\u001b[0m: "
     ]
    }
   ],
   "source": [
    "random_player = RandomPlayer()\n",
    "alpha = np.linspace(0.01, 1, 5)\n",
    "epsilon = np.linspace(0.01, 1, 5)\n",
    "gamma = np.linspace(0.01, 1, 5)\n",
    "\n",
    "params_combinations = list(product(alpha, epsilon, gamma))\n",
    "\n",
    "with ThreadPoolExecutor(max_workers=8) as executor:\n",
    "    results = list(executor.map(train_and_test_agent, params_combinations))\n",
    "\n",
    "best_win_rate, best_params = max(results, key=lambda x: x[0])\n",
    "\n",
    "print(f\"Best win rate: {(best_win_rate*100):.2f}%\")\n",
    "print(f\"Best parameters: {best_params}\")\n",
    "\n",
    "random_player = RandomPlayer()\n",
    "learning_player = QLearningPlayer(alpha=best_params[0], epsilon=best_params[1], gamma=best_params[2])\n",
    "\n",
    "print(\"\\nPlay one more game against the agent after the training with the best parameters:\")\n",
    "play_game(random_player, learning_player)"
   ]
  }
 ],
 "metadata": {
  "kernelspec": {
   "display_name": "ci-fLJ3OwGs-py3.12",
   "language": "python",
   "name": "python3"
  },
  "language_info": {
   "codemirror_mode": {
    "name": "ipython",
    "version": 3
   },
   "file_extension": ".py",
   "mimetype": "text/x-python",
   "name": "python",
   "nbconvert_exporter": "python",
   "pygments_lexer": "ipython3",
   "version": "3.11.3"
  }
 },
 "nbformat": 4,
 "nbformat_minor": 2
}
