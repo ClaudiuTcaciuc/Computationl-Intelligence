{
 "cells": [
  {
   "cell_type": "markdown",
   "metadata": {},
   "source": [
    "Copyright **`(c)`** 2023 Giovanni Squillero `<giovanni.squillero@polito.it>`  \n",
    "[`https://github.com/squillero/computational-intelligence`](https://github.com/squillero/computational-intelligence)  \n",
    "Free for personal or classroom use; see [`LICENSE.md`](https://github.com/squillero/computational-intelligence/blob/master/LICENSE.md) for details.  "
   ]
  },
  {
   "cell_type": "markdown",
   "metadata": {},
   "source": [
    "# LAB10\n",
    "\n",
    "Use reinforcement learning to devise a tic-tac-toe player.\n",
    "\n",
    "### Deadlines:\n",
    "\n",
    "* Submission: [Dies Natalis Solis Invicti](https://en.wikipedia.org/wiki/Sol_Invictus)\n",
    "* Reviews: [Befana](https://en.wikipedia.org/wiki/Befana)\n",
    "\n",
    "Notes:\n",
    "\n",
    "* Reviews will be assigned  on Monday, December 4\n",
    "* You need to commit in order to be selected as a reviewer (ie. better to commit an empty work than not to commit)"
   ]
  },
  {
   "cell_type": "code",
   "execution_count": 391,
   "metadata": {},
   "outputs": [],
   "source": [
    "import numpy as np\n",
    "import random\n"
   ]
  },
  {
   "cell_type": "markdown",
   "metadata": {},
   "source": [
    "I used this site to help me with the code:\n",
    "\n",
    "- [Building a Tic-Tac-Toe Game with Reinforcement Learning in Python: A Step-by-Step Tutorial](https://plainenglish.io/blog/building-a-tic-tac-toe-game-with-reinforcement-learning-in-python)\n"
   ]
  },
  {
   "cell_type": "markdown",
   "metadata": {},
   "source": [
    "### Instantiate a tic-tac-toe game\n",
    "The following class provides all tools to play a **tic-tac-toe** game. The game is played on a 3x3 board, where each cell can be empty, or occupied by a player's token (either `X` or `O`). The game is played by two players, `X` and `O`, that alternate in placing their tokens on the board. The game ends when one of the players manages to place three tokens in a row, either horizontally, vertically, or diagonally. If all the cells are occupied and no player managed to place three tokens in a row, the game ends in a draw."
   ]
  },
  {
   "cell_type": "code",
   "execution_count": 392,
   "metadata": {},
   "outputs": [],
   "source": [
    "class TicTacToe:\n",
    "    def __init__(self):\n",
    "        self.board = [\" \"] * 9\n",
    "        self.current_player = \"X\"\n",
    "        self.winner = None\n",
    "    \n",
    "    def display_board(self):\n",
    "        for i in range(0, 9, 3):\n",
    "            print(f\"{self.board[i]} | {self.board[i+1]} | {self.board[i+2]}\")\n",
    "            if i != 6:\n",
    "                print(\"---------\")\n",
    "        print(\"\\n\")\n",
    "    \n",
    "    def check_winner(self):\n",
    "        # check rows\n",
    "        for i in range(0, 9, 3):\n",
    "            if self.board[i] == self.board[i+1] == self.board[i+2] != \" \":\n",
    "                self.winner = self.current_player\n",
    "                return\n",
    "        \n",
    "        # check columns\n",
    "        for i in range(3):\n",
    "            if self.board[i] == self.board[i+3] == self.board[i+6] != \" \":\n",
    "                self.winner = self.current_player\n",
    "                return\n",
    "        \n",
    "        # check diagonals\n",
    "        if self.board[0] == self.board[4] == self.board[8] != \" \" or self.board[2] == self.board[4] == self.board[6] != \" \":\n",
    "            self.winner = self.current_player\n",
    "            return\n",
    "    \n",
    "    def switch_player(self):\n",
    "        self.current_player = \"O\" if self.current_player == \"X\" else \"X\"\n",
    "    \n",
    "    def make_move(self, position):\n",
    "        if self.board[position] == \" \":\n",
    "            self.board[position] = self.current_player\n",
    "            self.check_winner()\n",
    "            self.switch_player()\n",
    "            return True\n",
    "        else:\n",
    "            print(\"Invalid move! You can't take a spot that's already taken.\")\n",
    "            return False\n",
    "    \n",
    "    def full_board(self):\n",
    "        return \" \" not in self.board\n",
    "    \n",
    "    def game_over(self):\n",
    "        return self.winner is not None or self.full_board()\n",
    "            \n",
    "            "
   ]
  },
  {
   "cell_type": "code",
   "execution_count": 393,
   "metadata": {},
   "outputs": [],
   "source": [
    "class RandomPlayer:\n",
    "    def get_move(self, game):\n",
    "        valid_moves = [i for i in range(9) if game.board[i] == \" \"]\n",
    "        return random.choice(valid_moves)"
   ]
  },
  {
   "cell_type": "code",
   "execution_count": 394,
   "metadata": {},
   "outputs": [],
   "source": [
    "class QLearningPlayer:\n",
    "    def __init__(self, alpha, epsilon, gamma):\n",
    "        self.q_values = {}\n",
    "        self.alpha = alpha\n",
    "        self.epsilon = epsilon\n",
    "        self.gamma = gamma\n",
    "    \n",
    "    def get_move(self, game):\n",
    "        if random.uniform(0, 1) < self.epsilon:\n",
    "            available_moves = [i for i in range(9) if game.board[i] == \" \"]\n",
    "            return random.choice(available_moves) \n",
    "        else:\n",
    "            current_board_state = tuple(game.board)\n",
    "            available_moves = [i for i in range(9) if game.board[i] == \" \"]\n",
    "            q_values = {move: self.q_values.get((current_board_state, move), 0) for move in available_moves}\n",
    "            return max(q_values, key=q_values.get)\n",
    "    \n",
    "    def update_q_value(self, state, action, reward, next_state):\n",
    "        current_q_value = self.q_values.get((state, action), 0)\n",
    "        max_next_q_value = max([self.q_values.get((next_state, next_action), 0) for next_action in range(9)])\n",
    "        new_q_value = current_q_value + self.alpha * (reward + self.gamma * max_next_q_value - current_q_value)\n",
    "        self.q_values[(state, action)] = new_q_value"
   ]
  },
  {
   "cell_type": "code",
   "execution_count": 395,
   "metadata": {},
   "outputs": [],
   "source": [
    "def train_agent(random_agent, learning_agent, epochs):\n",
    "    for _ in range(epochs):\n",
    "        game = TicTacToe()\n",
    "        \n",
    "        while not game.game_over():\n",
    "            if game.current_player == \"X\":\n",
    "                move = learning_agent.get_move(game)\n",
    "            else:\n",
    "                move = random_agent.get_move(game)\n",
    "            \n",
    "            current_board_state = tuple(game.board)\n",
    "            game.make_move(move)\n",
    "            \n",
    "            if game.game_over():\n",
    "                reward = 1 if game.winner == \"X\" else 0\n",
    "                learning_agent.update_q_value(current_board_state, move, reward, tuple(game.board))"
   ]
  },
  {
   "cell_type": "code",
   "execution_count": 396,
   "metadata": {},
   "outputs": [],
   "source": [
    "def test_agent(random_agent, learning_agent, epochs):\n",
    "    learning_agent.epsilon = 0 # turn off exploration\n",
    "    wins = 0\n",
    "    draws = 0\n",
    "    \n",
    "    for _ in range(epochs):\n",
    "        game = TicTacToe()\n",
    "        while not game.game_over():\n",
    "            if game.current_player == \"X\":\n",
    "                move = learning_agent.get_move(game)\n",
    "            else:\n",
    "                move = random_agent.get_move(game)\n",
    "            \n",
    "            game.make_move(move)\n",
    "            \n",
    "            if game.game_over():\n",
    "                if game.winner == \"X\":\n",
    "                    wins += 1\n",
    "                else:\n",
    "                    draws += 1\n",
    "    \n",
    "    print(f\"Learning agent won {wins} times and drew {draws} times against random agent.\")"
   ]
  },
  {
   "cell_type": "code",
   "execution_count": 397,
   "metadata": {},
   "outputs": [],
   "source": [
    "def play_game(player1, player2):\n",
    "    game = TicTacToe()\n",
    "    \n",
    "    while not game.game_over():\n",
    "        if game.current_player == \"X\":\n",
    "            move = player1.get_move(game)\n",
    "        else:\n",
    "            move = player2.get_move(game)\n",
    "        \n",
    "        game.make_move(move)\n",
    "        \n",
    "        if game.game_over():\n",
    "            game.display_board()\n",
    "            if game.winner is not None:\n",
    "                print(f\"{game.winner} wins!\")\n",
    "            else:\n",
    "                print(\"It's a tie!\")"
   ]
  },
  {
   "cell_type": "markdown",
   "metadata": {},
   "source": [
    "Parameters for learning agent (Q-learning):\n",
    "- Alpha: learning rate\n",
    "  - determines the extent to wich newly acquired information overrides old information\n",
    "  - 0: the agent does not learn anything\n",
    "  - 1: the agent considers only the most recent information\n",
    "  - 0.1 is a good starting point\n",
    "- Gamma: discount factor\n",
    "  - determines the importance of future rewards\n",
    "  - 0: the agent is myopic (short-sighted)\n",
    "  - 1: the agent is far-sighted\n",
    "  - 0.9 is a good starting point\n",
    "- Epsilon: exploration rate\n",
    "  - determines the probability that the agent will explore the environment rather than exploiting it\n",
    "  - 0: the agent is greedy\n",
    "  - 1: the agent always explores\n",
    "  - 0.1 is a good starting point"
   ]
  },
  {
   "cell_type": "code",
   "execution_count": 398,
   "metadata": {},
   "outputs": [
    {
     "name": "stdout",
     "output_type": "stream",
     "text": [
      "Training...\n",
      "Testing...\n",
      "\n",
      "Learning agent won 872 times and drew 128 times against random agent.\n",
      "\n",
      "Play one game against the learning agent:\n",
      "O | X | O\n",
      "---------\n",
      "O | O | X\n",
      "---------\n",
      "X | X | X\n",
      "\n",
      "\n",
      "X wins!\n"
     ]
    }
   ],
   "source": [
    "random_player = RandomPlayer()\n",
    "learning_player = QLearningPlayer(\n",
    "    alpha=0.5,\n",
    "    epsilon=0.1,\n",
    "    gamma=0.9\n",
    ")\n",
    "print(\"Training...\")\n",
    "train_agent(random_player, learning_player, 10000)\n",
    "print(\"Testing...\\n\")\n",
    "test_agent(random_player, learning_player, 1000)\n",
    "\n",
    "print(\"\\nPlay one game against the learning agent:\")\n",
    "play_game(random_player, learning_player)"
   ]
  }
 ],
 "metadata": {
  "kernelspec": {
   "display_name": "ci-fLJ3OwGs-py3.12",
   "language": "python",
   "name": "python3"
  },
  "language_info": {
   "codemirror_mode": {
    "name": "ipython",
    "version": 3
   },
   "file_extension": ".py",
   "mimetype": "text/x-python",
   "name": "python",
   "nbconvert_exporter": "python",
   "pygments_lexer": "ipython3",
   "version": "3.11.2"
  }
 },
 "nbformat": 4,
 "nbformat_minor": 2
}
