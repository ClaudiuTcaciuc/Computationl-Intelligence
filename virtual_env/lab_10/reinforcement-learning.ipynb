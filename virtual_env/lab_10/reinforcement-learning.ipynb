{
 "cells": [
  {
   "cell_type": "markdown",
   "metadata": {},
   "source": [
    "### Reinforcement Learning example by the Teacher"
   ]
  },
  {
   "cell_type": "code",
   "execution_count": 9,
   "metadata": {},
   "outputs": [],
   "source": [
    "from itertools import combinations\n",
    "from collections import namedtuple, defaultdict\n",
    "\n",
    "import numpy as np"
   ]
  },
  {
   "cell_type": "code",
   "execution_count": 10,
   "metadata": {},
   "outputs": [],
   "source": [
    "Position = namedtuple('Position', ['x', 'o'])"
   ]
  },
  {
   "cell_type": "code",
   "execution_count": 11,
   "metadata": {},
   "outputs": [],
   "source": [
    "MAGIC = [\n",
    "    2, 7, 6,\n",
    "    9, 5, 1,\n",
    "    4, 3, 8,\n",
    "]"
   ]
  },
  {
   "cell_type": "code",
   "execution_count": 12,
   "metadata": {},
   "outputs": [],
   "source": [
    "def print_board(pos: Position):\n",
    "    \"\"\" Print a tic-tac-toe board \"\"\"\n",
    "    for r in range(3):\n",
    "        for c in range(3):\n",
    "            index = r * 3 + c\n",
    "            if MAGIC[index] in pos.x:\n",
    "                print('x', end='')\n",
    "            elif MAGIC[index] in pos.o:\n",
    "                print('o', end='')\n",
    "            else:\n",
    "                print('-', end='')\n",
    "        print()\n",
    "    print()"
   ]
  },
  {
   "cell_type": "code",
   "execution_count": 13,
   "metadata": {},
   "outputs": [],
   "source": [
    "def win(squares):\n",
    "    \"\"\" Check if a player has won\"\"\"\n",
    "    return any(sum(square) == 15 for square in combinations(squares, 3))\n",
    "\n",
    "def state_value(pos: Position):\n",
    "    \"\"\" Evaluate position: +1 first player wins \"\"\"\n",
    "    if win(pos.x):\n",
    "        return 1\n",
    "    elif win(pos.o):\n",
    "        return -1\n",
    "    else:\n",
    "        return 0"
   ]
  },
  {
   "cell_type": "code",
   "execution_count": 14,
   "metadata": {},
   "outputs": [],
   "source": [
    "from random import choice\n",
    "from copy import deepcopy\n",
    "\n",
    "def random_game():\n",
    "    state = Position(set(), set())\n",
    "    available = set(range(1, 9+1))\n",
    "    trajectory = list()\n",
    "    while available:\n",
    "        x = choice(list(available))\n",
    "        state.x.add(x)\n",
    "        trajectory.append(deepcopy(state))\n",
    "        available.remove(x)\n",
    "        if win(state.x) or not available:\n",
    "            break\n",
    "        # print(\"Player X's turn\")\n",
    "        # print_board(state)\n",
    "        y = choice(list(available))\n",
    "        state.o.add(y)\n",
    "        trajectory.append(deepcopy(state))\n",
    "        available.remove(y)\n",
    "        if win(state.o) or not available:\n",
    "            break\n",
    "        # print(\"Player O's turn\")\n",
    "        # print_board(state)\n",
    "    return trajectory"
   ]
  },
  {
   "cell_type": "code",
   "execution_count": 15,
   "metadata": {},
   "outputs": [
    {
     "name": "stdout",
     "output_type": "stream",
     "text": [
      "xx-\n",
      "-xo\n",
      "oox\n",
      "\n",
      "Player X wins!\n"
     ]
    }
   ],
   "source": [
    "trajectory = random_game()\n",
    "print_board(trajectory[-1])\n",
    "player = state_value(trajectory[-1])\n",
    "if player == 1:\n",
    "    print(\"Player X wins!\")\n",
    "elif player == -1:\n",
    "    print(\"Player O wins!\")\n",
    "else:\n",
    "    print(\"Draw!\")"
   ]
  },
  {
   "cell_type": "code",
   "execution_count": 16,
   "metadata": {},
   "outputs": [
    {
     "name": "stderr",
     "output_type": "stream",
     "text": [
      "100%|██████████| 100000/100000 [00:10<00:00, 9982.59it/s]\n"
     ]
    }
   ],
   "source": [
    "from tqdm import tqdm\n",
    "\n",
    "value_dict = defaultdict(int)\n",
    "epsilon = 0.001\n",
    "\n",
    "for steps in tqdm(range(100000)):\n",
    "    trajectory = random_game()\n",
    "    for state in trajectory:\n",
    "        hashable_state = (frozenset(state.x), frozenset(state.o))\n",
    "        value_dict[hashable_state] += epsilon * (state_value(state) - value_dict[hashable_state])\n"
   ]
  },
  {
   "cell_type": "code",
   "execution_count": 17,
   "metadata": {},
   "outputs": [
    {
     "data": {
      "text/plain": [
       "[((frozenset({1, 3, 6, 8, 9}), frozenset({2, 4, 5, 7})), 0.40145685685590804),\n",
       " ((frozenset({1, 2, 3, 4, 8}), frozenset({5, 6, 7, 9})), 0.3960429350695001),\n",
       " ((frozenset({1, 5, 7, 8, 9}), frozenset({2, 3, 4, 6})), 0.3954383734429431),\n",
       " ((frozenset({1, 6, 7, 8, 9}), frozenset({2, 3, 4, 5})), 0.39483320664959265),\n",
       " ((frozenset({2, 3, 5, 8, 9}), frozenset({1, 4, 6, 7})), 0.39483320664959265),\n",
       " ((frozenset({2, 3, 6, 7, 9}), frozenset({1, 4, 5, 8})), 0.3930140692080231),\n",
       " ((frozenset({3, 4, 6, 8, 9}), frozenset({1, 2, 5, 7})), 0.39058004346455016),\n",
       " ((frozenset({1, 2, 4, 5, 6}), frozenset({3, 7, 8, 9})), 0.39058004346455016),\n",
       " ((frozenset({1, 2, 4, 7, 9}), frozenset({3, 5, 6, 8})), 0.3899700134780282),\n",
       " ((frozenset({1, 2, 3, 6, 8}), frozenset({4, 5, 7, 9})), 0.3887481209718509)]"
      ]
     },
     "execution_count": 17,
     "metadata": {},
     "output_type": "execute_result"
    }
   ],
   "source": [
    "sorted(value_dict.items(), key=lambda x: x[1], reverse=True)[:10]"
   ]
  }
 ],
 "metadata": {
  "kernelspec": {
   "display_name": ".venv",
   "language": "python",
   "name": "python3"
  },
  "language_info": {
   "codemirror_mode": {
    "name": "ipython",
    "version": 3
   },
   "file_extension": ".py",
   "mimetype": "text/x-python",
   "name": "python",
   "nbconvert_exporter": "python",
   "pygments_lexer": "ipython3",
   "version": "3.11.2"
  }
 },
 "nbformat": 4,
 "nbformat_minor": 2
}
