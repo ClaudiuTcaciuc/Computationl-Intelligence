{
 "cells": [
  {
   "cell_type": "markdown",
   "metadata": {},
   "source": [
    "### Reinforcement Learning example by the Teacher"
   ]
  },
  {
   "cell_type": "code",
   "execution_count": null,
   "metadata": {},
   "outputs": [],
   "source": [
    "from itertools import combinations\n",
    "from collections import namedtuple, defaultdict\n",
    "\n",
    "import numpy as np"
   ]
  },
  {
   "cell_type": "code",
   "execution_count": null,
   "metadata": {},
   "outputs": [],
   "source": [
    "Position = namedtuple('Position', ['x', 'o'])"
   ]
  },
  {
   "cell_type": "code",
   "execution_count": null,
   "metadata": {},
   "outputs": [],
   "source": [
    "MAGIC = [\n",
    "    2, 7, 6,\n",
    "    9, 5, 1,\n",
    "    4, 3, 8,\n",
    "]"
   ]
  },
  {
   "cell_type": "code",
   "execution_count": null,
   "metadata": {},
   "outputs": [],
   "source": [
    "def print_board(pos: Position):\n",
    "    \"\"\" Print a tic-tac-toe board \"\"\"\n",
    "    for r in range(3):\n",
    "        for c in range(3):\n",
    "            index = r * 3 + c\n",
    "            if MAGIC[index] in pos.x:\n",
    "                print('x', end='')\n",
    "            elif MAGIC[index] in pos.o:\n",
    "                print('o', end='')\n",
    "            else:\n",
    "                print('-', end='')\n",
    "        print()\n",
    "    print()"
   ]
  },
  {
   "cell_type": "code",
   "execution_count": null,
   "metadata": {},
   "outputs": [],
   "source": [
    "def win(squares):\n",
    "    \"\"\" Check if a player has won\"\"\"\n",
    "    return any(sum(square) == 15 for square in combinations(squares, 3))\n",
    "\n",
    "def state_value(pos: Position):\n",
    "    \"\"\" Evaluate position: +1 first player wins \"\"\"\n",
    "    if win(pos.x):\n",
    "        return 1\n",
    "    elif win(pos.o):\n",
    "        return -1\n",
    "    else:\n",
    "        return 0"
   ]
  },
  {
   "cell_type": "code",
   "execution_count": null,
   "metadata": {},
   "outputs": [],
   "source": [
    "from random import choice\n",
    "from copy import deepcopy\n",
    "\n",
    "def random_game():\n",
    "    state = Position(set(), set())\n",
    "    available = set(range(1, 9+1))\n",
    "    trajectory = list()\n",
    "    while available:\n",
    "        x = choice(list(available))\n",
    "        state.x.add(x)\n",
    "        trajectory.append(deepcopy(state))\n",
    "        available.remove(x)\n",
    "        if win(state.x) or not available:\n",
    "            break\n",
    "        # print(\"Player X's turn\")\n",
    "        # print_board(state)\n",
    "        y = choice(list(available))\n",
    "        state.o.add(y)\n",
    "        trajectory.append(deepcopy(state))\n",
    "        available.remove(y)\n",
    "        if win(state.o) or not available:\n",
    "            break\n",
    "        # print(\"Player O's turn\")\n",
    "        # print_board(state)\n",
    "    return trajectory"
   ]
  },
  {
   "cell_type": "code",
   "execution_count": null,
   "metadata": {},
   "outputs": [],
   "source": [
    "trajectory = random_game()\n",
    "print_board(trajectory[-1])\n",
    "player = state_value(trajectory[-1])\n",
    "if player == 1:\n",
    "    print(\"Player X wins!\")\n",
    "elif player == -1:\n",
    "    print(\"Player O wins!\")\n",
    "else:\n",
    "    print(\"Draw!\")"
   ]
  },
  {
   "cell_type": "code",
   "execution_count": null,
   "metadata": {},
   "outputs": [],
   "source": [
    "from tqdm import tqdm\n",
    "\n",
    "value_dict = defaultdict(int)\n",
    "epsilon = 0.001\n",
    "\n",
    "for steps in tqdm(range(100000)):\n",
    "    trajectory = random_game()\n",
    "    for state in trajectory:\n",
    "        hashable_state = (frozenset(state.x), frozenset(state.o))\n",
    "        value_dict[hashable_state] += epsilon * (state_value(state) - value_dict[hashable_state])\n"
   ]
  },
  {
   "cell_type": "code",
   "execution_count": null,
   "metadata": {},
   "outputs": [],
   "source": [
    "sorted(value_dict.items(), key=lambda x: x[1], reverse=True)[:10]"
   ]
  }
 ],
 "metadata": {
  "kernelspec": {
   "display_name": ".venv",
   "language": "python",
   "name": "python3"
  },
  "language_info": {
   "codemirror_mode": {
    "name": "ipython",
    "version": 3
   },
   "file_extension": ".py",
   "mimetype": "text/x-python",
   "name": "python",
   "nbconvert_exporter": "python",
   "pygments_lexer": "ipython3",
   "version": "3.11.3"
  }
 },
 "nbformat": 4,
 "nbformat_minor": 2
}
